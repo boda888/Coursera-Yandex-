{
 "cells": [
  {
   "cell_type": "code",
   "execution_count": 15,
   "metadata": {},
   "outputs": [],
   "source": [
    "import numpy as np\n",
    "import pandas as pd\n",
    "from sklearn.model_selection import train_test_split\n",
    "from sklearn.ensemble import GradientBoostingClassifier\n",
    "from sklearn.metrics import log_loss\n",
    "import matplotlib.pyplot as plt\n",
    "from sklearn.ensemble import RandomForestClassifier\n",
    "bio = pd.read_csv('C:/Users/bodak/Desktop/_75fb7a1b6f3431b6217cdbcba2fd30b9_gbm-data.csv')"
   ]
  },
  {
   "cell_type": "code",
   "execution_count": 3,
   "metadata": {},
   "outputs": [
    {
     "data": {
      "text/html": [
       "<div>\n",
       "<style scoped>\n",
       "    .dataframe tbody tr th:only-of-type {\n",
       "        vertical-align: middle;\n",
       "    }\n",
       "\n",
       "    .dataframe tbody tr th {\n",
       "        vertical-align: top;\n",
       "    }\n",
       "\n",
       "    .dataframe thead th {\n",
       "        text-align: right;\n",
       "    }\n",
       "</style>\n",
       "<table border=\"1\" class=\"dataframe\">\n",
       "  <thead>\n",
       "    <tr style=\"text-align: right;\">\n",
       "      <th></th>\n",
       "      <th>Activity</th>\n",
       "      <th>D1</th>\n",
       "      <th>D2</th>\n",
       "      <th>D3</th>\n",
       "      <th>D4</th>\n",
       "      <th>D5</th>\n",
       "      <th>D6</th>\n",
       "      <th>D7</th>\n",
       "      <th>D8</th>\n",
       "      <th>D9</th>\n",
       "      <th>...</th>\n",
       "      <th>D1767</th>\n",
       "      <th>D1768</th>\n",
       "      <th>D1769</th>\n",
       "      <th>D1770</th>\n",
       "      <th>D1771</th>\n",
       "      <th>D1772</th>\n",
       "      <th>D1773</th>\n",
       "      <th>D1774</th>\n",
       "      <th>D1775</th>\n",
       "      <th>D1776</th>\n",
       "    </tr>\n",
       "  </thead>\n",
       "  <tbody>\n",
       "    <tr>\n",
       "      <th>0</th>\n",
       "      <td>1</td>\n",
       "      <td>0.000000</td>\n",
       "      <td>0.497009</td>\n",
       "      <td>0.10</td>\n",
       "      <td>0.0</td>\n",
       "      <td>0.132956</td>\n",
       "      <td>0.678031</td>\n",
       "      <td>0.273166</td>\n",
       "      <td>0.585445</td>\n",
       "      <td>0.743663</td>\n",
       "      <td>...</td>\n",
       "      <td>0</td>\n",
       "      <td>0</td>\n",
       "      <td>0</td>\n",
       "      <td>0</td>\n",
       "      <td>0</td>\n",
       "      <td>0</td>\n",
       "      <td>0</td>\n",
       "      <td>0</td>\n",
       "      <td>0</td>\n",
       "      <td>0</td>\n",
       "    </tr>\n",
       "    <tr>\n",
       "      <th>1</th>\n",
       "      <td>1</td>\n",
       "      <td>0.366667</td>\n",
       "      <td>0.606291</td>\n",
       "      <td>0.05</td>\n",
       "      <td>0.0</td>\n",
       "      <td>0.111209</td>\n",
       "      <td>0.803455</td>\n",
       "      <td>0.106105</td>\n",
       "      <td>0.411754</td>\n",
       "      <td>0.836582</td>\n",
       "      <td>...</td>\n",
       "      <td>1</td>\n",
       "      <td>1</td>\n",
       "      <td>1</td>\n",
       "      <td>1</td>\n",
       "      <td>0</td>\n",
       "      <td>1</td>\n",
       "      <td>0</td>\n",
       "      <td>0</td>\n",
       "      <td>1</td>\n",
       "      <td>0</td>\n",
       "    </tr>\n",
       "    <tr>\n",
       "      <th>2</th>\n",
       "      <td>1</td>\n",
       "      <td>0.033300</td>\n",
       "      <td>0.480124</td>\n",
       "      <td>0.00</td>\n",
       "      <td>0.0</td>\n",
       "      <td>0.209791</td>\n",
       "      <td>0.610350</td>\n",
       "      <td>0.356453</td>\n",
       "      <td>0.517720</td>\n",
       "      <td>0.679051</td>\n",
       "      <td>...</td>\n",
       "      <td>0</td>\n",
       "      <td>0</td>\n",
       "      <td>0</td>\n",
       "      <td>0</td>\n",
       "      <td>0</td>\n",
       "      <td>0</td>\n",
       "      <td>0</td>\n",
       "      <td>0</td>\n",
       "      <td>0</td>\n",
       "      <td>0</td>\n",
       "    </tr>\n",
       "    <tr>\n",
       "      <th>3</th>\n",
       "      <td>1</td>\n",
       "      <td>0.000000</td>\n",
       "      <td>0.538825</td>\n",
       "      <td>0.00</td>\n",
       "      <td>0.5</td>\n",
       "      <td>0.196344</td>\n",
       "      <td>0.724230</td>\n",
       "      <td>0.235606</td>\n",
       "      <td>0.288764</td>\n",
       "      <td>0.805110</td>\n",
       "      <td>...</td>\n",
       "      <td>0</td>\n",
       "      <td>0</td>\n",
       "      <td>0</td>\n",
       "      <td>0</td>\n",
       "      <td>0</td>\n",
       "      <td>0</td>\n",
       "      <td>0</td>\n",
       "      <td>0</td>\n",
       "      <td>0</td>\n",
       "      <td>0</td>\n",
       "    </tr>\n",
       "    <tr>\n",
       "      <th>4</th>\n",
       "      <td>0</td>\n",
       "      <td>0.100000</td>\n",
       "      <td>0.517794</td>\n",
       "      <td>0.00</td>\n",
       "      <td>0.0</td>\n",
       "      <td>0.494734</td>\n",
       "      <td>0.781422</td>\n",
       "      <td>0.154361</td>\n",
       "      <td>0.303809</td>\n",
       "      <td>0.812646</td>\n",
       "      <td>...</td>\n",
       "      <td>0</td>\n",
       "      <td>0</td>\n",
       "      <td>0</td>\n",
       "      <td>0</td>\n",
       "      <td>0</td>\n",
       "      <td>0</td>\n",
       "      <td>0</td>\n",
       "      <td>0</td>\n",
       "      <td>0</td>\n",
       "      <td>0</td>\n",
       "    </tr>\n",
       "  </tbody>\n",
       "</table>\n",
       "<p>5 rows × 1777 columns</p>\n",
       "</div>"
      ],
      "text/plain": [
       "   Activity        D1        D2    D3   D4        D5        D6        D7  \\\n",
       "0         1  0.000000  0.497009  0.10  0.0  0.132956  0.678031  0.273166   \n",
       "1         1  0.366667  0.606291  0.05  0.0  0.111209  0.803455  0.106105   \n",
       "2         1  0.033300  0.480124  0.00  0.0  0.209791  0.610350  0.356453   \n",
       "3         1  0.000000  0.538825  0.00  0.5  0.196344  0.724230  0.235606   \n",
       "4         0  0.100000  0.517794  0.00  0.0  0.494734  0.781422  0.154361   \n",
       "\n",
       "         D8        D9  ...  D1767  D1768  D1769  D1770  D1771  D1772  D1773  \\\n",
       "0  0.585445  0.743663  ...      0      0      0      0      0      0      0   \n",
       "1  0.411754  0.836582  ...      1      1      1      1      0      1      0   \n",
       "2  0.517720  0.679051  ...      0      0      0      0      0      0      0   \n",
       "3  0.288764  0.805110  ...      0      0      0      0      0      0      0   \n",
       "4  0.303809  0.812646  ...      0      0      0      0      0      0      0   \n",
       "\n",
       "   D1774  D1775  D1776  \n",
       "0      0      0      0  \n",
       "1      0      1      0  \n",
       "2      0      0      0  \n",
       "3      0      0      0  \n",
       "4      0      0      0  \n",
       "\n",
       "[5 rows x 1777 columns]"
      ]
     },
     "execution_count": 3,
     "metadata": {},
     "output_type": "execute_result"
    }
   ],
   "source": [
    "bio.head()"
   ]
  },
  {
   "cell_type": "code",
   "execution_count": 4,
   "metadata": {},
   "outputs": [],
   "source": [
    "y=np.array(bio.iloc[:,0])\n",
    "X=np.array(bio.iloc[:,1:])"
   ]
  },
  {
   "cell_type": "code",
   "execution_count": 5,
   "metadata": {},
   "outputs": [],
   "source": [
    "X_train, X_test, y_train, y_test = train_test_split(X, y, test_size=0.8, random_state=241)"
   ]
  },
  {
   "cell_type": "code",
   "execution_count": 6,
   "metadata": {},
   "outputs": [
    {
     "name": "stdout",
     "output_type": "stream",
     "text": [
      "      Iter       Train Loss   Remaining Time \n",
      "         1           1.0190            1.66m\n",
      "         2           0.9192            1.08m\n",
      "         3           0.8272           59.37s\n",
      "         4           0.7834           55.78s\n",
      "         5           0.7109           51.50s\n",
      "         6           0.6368           48.23s\n",
      "         7           0.5797           46.17s\n",
      "         8           0.5610           47.77s\n",
      "         9           0.5185           47.26s\n",
      "        10           0.4984           46.97s\n",
      "        20           0.1999           40.92s\n",
      "        30           0.1313           37.22s\n",
      "        40           0.0790           34.29s\n",
      "        50           0.0511           31.86s\n",
      "        60           0.0352           29.19s\n",
      "        70           0.0245           26.94s\n",
      "        80           0.0162           24.91s\n",
      "        90           0.0114           23.51s\n",
      "       100           0.0077           22.01s\n",
      "       200           0.0004            6.44s\n",
      "   iter      loss\n",
      "0     2  0.582294\n",
      "      Iter       Train Loss   Remaining Time \n",
      "         1           1.1255           25.15s\n",
      "         2           1.0035           25.17s\n",
      "         3           0.9386           26.76s\n",
      "         4           0.8844           29.03s\n",
      "         5           0.8381           31.41s\n",
      "         6           0.7995           31.27s\n",
      "         7           0.7559           31.35s\n",
      "         8           0.7205           32.49s\n",
      "         9           0.6958           32.56s\n",
      "        10           0.6725           33.96s\n",
      "        20           0.4672           33.03s\n",
      "        30           0.3179           31.80s\n",
      "        40           0.2274           31.75s\n",
      "        50           0.1774           29.74s\n",
      "        60           0.1394           28.71s\n",
      "        70           0.1050           26.65s\n",
      "        80           0.0805           24.58s\n",
      "        90           0.0650           23.07s\n",
      "       100           0.0511           21.67s\n",
      "       200           0.0058            6.75s\n",
      "   iter      loss\n",
      "0     2  0.582294\n",
      "      Iter       Train Loss   Remaining Time \n",
      "         1           1.2095           24.90s\n",
      "         2           1.1006           26.91s\n",
      "         3           1.0240           26.51s\n",
      "         4           0.9729           26.20s\n",
      "         5           0.9387           26.95s\n",
      "         6           0.8948           26.51s\n",
      "         7           0.8621           26.83s\n",
      "         8           0.8360           27.19s\n",
      "         9           0.8171           27.53s\n",
      "        10           0.7883           27.58s\n",
      "        20           0.6029           26.98s\n",
      "        30           0.4760           26.06s\n",
      "        40           0.3879           25.08s\n",
      "        50           0.3325           24.18s\n",
      "        60           0.2759           22.95s\n",
      "        70           0.2304           21.85s\n",
      "        80           0.1969           20.65s\n",
      "        90           0.1718           19.61s\n",
      "       100           0.1404           18.51s\n",
      "       200           0.0358            6.23s\n",
      "   iter      loss\n",
      "0     2  0.582294\n",
      "      Iter       Train Loss   Remaining Time \n",
      "         1           1.2613           24.90s\n",
      "         2           1.1715           26.29s\n",
      "         3           1.1009           25.77s\n",
      "         4           1.0529           25.34s\n",
      "         5           1.0130           25.28s\n",
      "         6           0.9740           25.01s\n",
      "         7           0.9475           26.45s\n",
      "         8           0.9197           28.25s\n",
      "         9           0.8979           29.54s\n",
      "        10           0.8730           29.64s\n",
      "        20           0.7207           31.57s\n",
      "        30           0.6055           29.11s\n",
      "        40           0.5244           27.32s\n",
      "        50           0.4501           25.74s\n",
      "        60           0.3908           24.48s\n",
      "        70           0.3372           22.94s\n",
      "        80           0.3009           21.51s\n",
      "        90           0.2603           20.06s\n",
      "       100           0.2327           18.77s\n",
      "       200           0.0835            6.59s\n",
      "   iter      loss\n",
      "0     2  0.582294\n",
      "      Iter       Train Loss   Remaining Time \n",
      "         1           1.3199           24.90s\n",
      "         2           1.2645           24.80s\n",
      "         3           1.2170           25.52s\n",
      "         4           1.1775           25.15s\n",
      "         5           1.1404           25.38s\n",
      "         6           1.1106           25.25s\n",
      "         7           1.0844           25.31s\n",
      "         8           1.0617           25.14s\n",
      "         9           1.0411           26.56s\n",
      "        10           1.0223           27.12s\n",
      "        20           0.8864           28.39s\n",
      "        30           0.7844           27.62s\n",
      "        40           0.7176           26.73s\n",
      "        50           0.6590           25.68s\n",
      "        60           0.6120           24.67s\n",
      "        70           0.5599           23.35s\n",
      "        80           0.5242           21.97s\n",
      "        90           0.4829           20.51s\n",
      "       100           0.4473           19.17s\n",
      "       200           0.2379            6.54s\n",
      "   iter      loss\n",
      "0     2  0.582294\n"
     ]
    }
   ],
   "source": [
    "x = [1, 0.5, 0.3, 0.2, 0.1]\n",
    "test_loss = list()\n",
    "for i in x: \n",
    "    gbc = GradientBoostingClassifier(n_estimators=250, learning_rate= i, verbose=True, random_state=241 )\n",
    "    gbc.fit(X_train, y_train)\n",
    "    for j, y_decision in enumerate(gbc.staged_decision_function(X_test)):\n",
    "        y_pred = 1.0/(1.0 + np.exp(-y_decision))\n",
    "        test_loss.append([i + 1, log_loss(y_test, y_pred)])\n",
    "    test_loss = pd.DataFrame(test_loss, columns=['iter','loss'])\n",
    "    print(test_loss[test_loss.loss==test_loss.loss.min()])"
   ]
  },
  {
   "cell_type": "code",
   "execution_count": 10,
   "metadata": {},
   "outputs": [
    {
     "name": "stdout",
     "output_type": "stream",
     "text": [
      "      Iter       Train Loss   Remaining Time \n",
      "         1           1.2613           27.39s\n",
      "         2           1.1715           26.16s\n",
      "         3           1.1009           26.51s\n",
      "         4           1.0529           26.08s\n",
      "         5           1.0130           25.92s\n",
      "         6           0.9740           25.62s\n",
      "         7           0.9475           27.94s\n",
      "         8           0.9197           27.77s\n",
      "         9           0.8979           28.04s\n",
      "        10           0.8730           28.13s\n",
      "        20           0.7207           28.16s\n",
      "        30           0.6055           27.66s\n",
      "        40           0.5244           26.19s\n",
      "        50           0.4501           24.76s\n",
      "        60           0.3908           23.46s\n",
      "        70           0.3372           22.24s\n",
      "        80           0.3009           20.91s\n",
      "        90           0.2603           19.56s\n",
      "       100           0.2327           18.47s\n",
      "       200           0.0835            6.92s\n"
     ]
    }
   ],
   "source": [
    "gbc = GradientBoostingClassifier(n_estimators=250, learning_rate= 0.2, verbose=True, random_state=241 )\n",
    "gbc.fit(X_train, y_train)\n",
    "test_loss = list()\n",
    "for j, y_decision in enumerate(gbc.staged_decision_function(X_test)):\n",
    "    y_pred = 1.0/(1.0 + np.exp(-y_decision))\n",
    "    test_loss.append([j + 1, log_loss(y_test, y_pred)])\n",
    "test_loss = pd.DataFrame(test_loss, columns=['iter','loss'])"
   ]
  },
  {
   "cell_type": "code",
   "execution_count": null,
   "metadata": {},
   "outputs": [],
   "source": []
  },
  {
   "cell_type": "code",
   "execution_count": 29,
   "metadata": {},
   "outputs": [],
   "source": [
    "train_loss=list()\n",
    "for j, y_decision in enumerate(gbc.staged_decision_function(X_train)):\n",
    "    y_pred = 1.0/(1.0 + np.exp(-y_decision))\n",
    "    train_loss.append([j + 1, log_loss(y_train, y_pred)])\n"
   ]
  },
  {
   "cell_type": "code",
   "execution_count": 14,
   "metadata": {},
   "outputs": [
    {
     "data": {
      "text/plain": [
       "<matplotlib.axes._subplots.AxesSubplot at 0x27f4af176d8>"
      ]
     },
     "execution_count": 14,
     "metadata": {},
     "output_type": "execute_result"
    },
    {
     "data": {
      "image/png": "[encoded data removed]",
      "text/plain": [
       "<Figure size 432x288 with 1 Axes>"
      ]
     },
     "metadata": {
      "needs_background": "light"
     },
     "output_type": "display_data"
    }
   ],
   "source": [
    "%matplotlib inline\n",
    "test_loss.plot('loss')"
   ]
  },
  {
   "cell_type": "code",
   "execution_count": 18,
   "metadata": {},
   "outputs": [
    {
     "data": {
      "text/plain": [
       "RandomForestClassifier(bootstrap=True, ccp_alpha=0.0, class_weight=None,\n",
       "                       criterion='gini', max_depth=None, max_features='auto',\n",
       "                       max_leaf_nodes=None, max_samples=None,\n",
       "                       min_impurity_decrease=0.0, min_impurity_split=None,\n",
       "                       min_samples_leaf=1, min_samples_split=2,\n",
       "                       min_weight_fraction_leaf=0.0, n_estimators=37,\n",
       "                       n_jobs=None, oob_score=False, random_state=241,\n",
       "                       verbose=0, warm_start=False)"
      ]
     },
     "execution_count": 18,
     "metadata": {},
     "output_type": "execute_result"
    }
   ],
   "source": [
    "clf = RandomForestClassifier(n_estimators = 37, random_state = 241)\n",
    "clf.fit(X_train, y_train)"
   ]
  },
  {
   "cell_type": "code",
   "execution_count": 22,
   "metadata": {},
   "outputs": [],
   "source": [
    "pred=clf.predict_proba(X_test)"
   ]
  },
  {
   "cell_type": "code",
   "execution_count": 23,
   "metadata": {},
   "outputs": [
    {
     "data": {
      "text/plain": [
       "0.5410941951182815"
      ]
     },
     "execution_count": 23,
     "metadata": {},
     "output_type": "execute_result"
    }
   ],
   "source": [
    "log_loss(y_test, pred)"
   ]
  },
  {
   "cell_type": "code",
   "execution_count": null,
   "metadata": {},
   "outputs": [],
   "source": []
  }
 ],
 "metadata": {
  "kernelspec": {
   "display_name": "Python 3",
   "language": "python",
   "name": "python3"
  },
  "language_info": {
   "codemirror_mode": {
    "name": "ipython",
    "version": 3
   },
   "file_extension": ".py",
   "mimetype": "text/x-python",
   "name": "python",
   "nbconvert_exporter": "python",
   "pygments_lexer": "ipython3",
   "version": "3.7.3"
  }
 },
 "nbformat": 4,
 "nbformat_minor": 2
}
