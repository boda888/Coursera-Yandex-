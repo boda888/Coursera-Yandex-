{
 "cells": [
  {
   "cell_type": "code",
   "execution_count": 1,
   "metadata": {},
   "outputs": [],
   "source": [
    "import numpy as np\n",
    "import pandas as pd\n",
    "from sklearn.decomposition import IncrementalPCA\n",
    "prices = pd.read_csv('C:/Users/bodak/Desktop/_82b4a9f66c689b3d40dd25ebd761b07f_close_prices.csv')\n",
    "johnes = pd.read_csv('C:/Users/bodak/Desktop/_82b4a9f66c689b3d40dd25ebd761b07f_djia_index.csv')"
   ]
  },
  {
   "cell_type": "code",
   "execution_count": 2,
   "metadata": {},
   "outputs": [],
   "source": [
    "new_prices=prices.drop(['date'], axis=1)"
   ]
  },
  {
   "cell_type": "code",
   "execution_count": 3,
   "metadata": {},
   "outputs": [
    {
     "data": {
      "text/plain": [
       "IncrementalPCA(batch_size=None, copy=True, n_components=10, whiten=False)"
      ]
     },
     "execution_count": 3,
     "metadata": {},
     "output_type": "execute_result"
    }
   ],
   "source": [
    "ipca = IncrementalPCA(n_components=10)\n",
    "ipca.fit(new_prices)"
   ]
  },
  {
   "cell_type": "code",
   "execution_count": 4,
   "metadata": {},
   "outputs": [
    {
     "data": {
      "text/plain": [
       "array([0.73892531, 0.11003496, 0.04989187, 0.02854979, 0.02211184,\n",
       "       0.019276  , 0.0066939 , 0.0059554 , 0.00306374, 0.00297776])"
      ]
     },
     "execution_count": 4,
     "metadata": {},
     "output_type": "execute_result"
    }
   ],
   "source": [
    "ipca.explained_variance_ratio_"
   ]
  },
  {
   "cell_type": "code",
   "execution_count": 9,
   "metadata": {},
   "outputs": [],
   "source": [
    "prices_transformed=ipca.transform(new_prices)\n",
    "first_comp=prices_transformed[:,0]"
   ]
  },
  {
   "cell_type": "code",
   "execution_count": null,
   "metadata": {},
   "outputs": [],
   "source": []
  },
  {
   "cell_type": "code",
   "execution_count": 11,
   "metadata": {},
   "outputs": [],
   "source": [
    "johnes_new= np.array(johnes.iloc[:,1:2])"
   ]
  },
  {
   "cell_type": "code",
   "execution_count": 23,
   "metadata": {},
   "outputs": [],
   "source": [
    "corr=np.corrcoef(first_comp.T, johnes_new.T)[1,0]"
   ]
  },
  {
   "cell_type": "code",
   "execution_count": 24,
   "metadata": {},
   "outputs": [
    {
     "data": {
      "text/plain": [
       "0.909659097718538"
      ]
     },
     "execution_count": 24,
     "metadata": {},
     "output_type": "execute_result"
    }
   ],
   "source": [
    "corr"
   ]
  },
  {
   "cell_type": "code",
   "execution_count": 45,
   "metadata": {},
   "outputs": [
    {
     "name": "stdout",
     "output_type": "stream",
     "text": [
      "Company name: 'V' weight: 0.58\n"
     ]
    }
   ],
   "source": [
    "indx = -1\n",
    "value = -1\n",
    "for i in range(len(ipca.components_[0])):\n",
    "    if value < ipca.components_[0][i]:\n",
    "        value = ipca.components_[0][i]\n",
    "        indx = i\n",
    "print(\"Company name: '%s' weight: %0.2f\" % (new_prices.columns[indx], value))"
   ]
  },
  {
   "cell_type": "code",
   "execution_count": 52,
   "metadata": {},
   "outputs": [
    {
     "data": {
      "text/plain": [
       "0      196.240005\n",
       "1      193.339996\n",
       "2      191.559998\n",
       "3      193.559998\n",
       "4      193.050003\n",
       "5      191.100006\n",
       "6      193.220001\n",
       "7      191.820007\n",
       "8      188.649994\n",
       "9      190.479996\n",
       "10     186.330002\n",
       "11     182.529999\n",
       "12     183.850006\n",
       "13     189.029999\n",
       "14     192.199997\n",
       "15     193.440002\n",
       "16     191.369995\n",
       "17     195.630005\n",
       "18     198.279999\n",
       "19     200.449997\n",
       "20     200.039993\n",
       "21     199.979996\n",
       "22     198.889999\n",
       "23     202.910004\n",
       "24     203.059998\n",
       "25     203.080002\n",
       "26     204.240005\n",
       "27     203.820007\n",
       "28     196.669998\n",
       "29     199.160004\n",
       "          ...    \n",
       "344    264.890015\n",
       "345    271.799988\n",
       "346    267.420013\n",
       "347    265.459991\n",
       "348    264.549988\n",
       "349    265.989990\n",
       "350    270.910004\n",
       "351    269.630005\n",
       "352    270.869995\n",
       "353    269.119995\n",
       "354    269.100006\n",
       "355    273.000000\n",
       "356    273.010010\n",
       "357    272.470001\n",
       "358    273.010010\n",
       "359    273.750000\n",
       "360    271.309998\n",
       "361    278.290009\n",
       "362    275.299988\n",
       "363    273.750000\n",
       "364    274.130005\n",
       "365    269.339996\n",
       "366    271.420013\n",
       "367    265.200012\n",
       "368    264.750000\n",
       "369    269.579987\n",
       "370    265.029999\n",
       "371    269.019989\n",
       "372    264.500000\n",
       "373    267.670013\n",
       "Name: V, Length: 374, dtype: float64"
      ]
     },
     "execution_count": 52,
     "metadata": {},
     "output_type": "execute_result"
    }
   ],
   "source": [
    "new_prices['V']"
   ]
  },
  {
   "cell_type": "code",
   "execution_count": null,
   "metadata": {},
   "outputs": [],
   "source": []
  }
 ],
 "metadata": {
  "kernelspec": {
   "display_name": "Python 3",
   "language": "python",
   "name": "python3"
  },
  "language_info": {
   "codemirror_mode": {
    "name": "ipython",
    "version": 3
   },
   "file_extension": ".py",
   "mimetype": "text/x-python",
   "name": "python",
   "nbconvert_exporter": "python",
   "pygments_lexer": "ipython3",
   "version": "3.7.3"
  }
 },
 "nbformat": 4,
 "nbformat_minor": 2
}
